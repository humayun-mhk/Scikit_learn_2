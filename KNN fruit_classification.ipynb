{
  "nbformat": 4,
  "nbformat_minor": 0,
  "metadata": {
    "colab": {
      "provenance": [],
      "authorship_tag": "ABX9TyOiVpfHsG+5bGEIi8wxdpyX",
      "include_colab_link": true
    },
    "kernelspec": {
      "name": "python3",
      "display_name": "Python 3"
    },
    "language_info": {
      "name": "python"
    }
  },
  "cells": [
    {
      "cell_type": "markdown",
      "metadata": {
        "id": "view-in-github",
        "colab_type": "text"
      },
      "source": [
        "<a href=\"https://colab.research.google.com/github/humayun-mhk/Scikit_learn_2/blob/main/KNN%20fruit_classification.ipynb\" target=\"_parent\"><img src=\"https://colab.research.google.com/assets/colab-badge.svg\" alt=\"Open In Colab\"/></a>"
      ]
    },
    {
      "cell_type": "markdown",
      "source": [
        "# **fruit_classification**"
      ],
      "metadata": {
        "id": "mV7SVsZbeIyo"
      }
    },
    {
      "cell_type": "code",
      "execution_count": null,
      "metadata": {
        "id": "MUKs4ZVndx9i"
      },
      "outputs": [],
      "source": [
        "import pandas as pd\n",
        "import numpy as np\n",
        "import matplotlib.pyplot as plt\n",
        "from sklearn.model_selection import train_test_split\n",
        "from sklearn.neighbors import KNeighborsClassifier\n",
        "\n",
        "# Load the dataset\n",
        "data = pd.read_csv(\"fruit_data_30_rows.csv\")\n",
        "\n",
        "# Create a lookup dictionary for fruit labels and names\n",
        "lookup_fruit_name = dict(zip(data.fruit_label.unique(), data.Fruit_name.unique()))\n",
        "print(\"Lookup Dictionary:\", lookup_fruit_name)\n",
        "\n",
        "# Define features (X) and target (Y)\n",
        "X = data[[\"mass\", \"height\", \"width\"]]  # Features\n",
        "Y = data[\"fruit_label\"]  # Target (must be numeric labels, not fruit names)\n",
        "\n",
        "# Split the data into training and testing sets\n",
        "X_train, X_test, Y_train, Y_test = train_test_split(X, Y, random_state=0)\n",
        "\n",
        "# Initialize and train the KNN classifier\n",
        "knn = KNeighborsClassifier(n_neighbors=5)\n",
        "knn.fit(X_train, Y_train)\n",
        "\n",
        "# Evaluate the model\n",
        "accuracy = knn.score(X_test, Y_test)\n",
        "print(f\"Model Accuracy: {accuracy:.2f}\")\n",
        "\n",
        "# Make predictions on the test set\n",
        "predictions = knn.predict(X_test)\n",
        "print(\"Predictions for X_test:\", predictions)\n",
        "\n",
        "# Predict the fruit for a new data point\n",
        "fruit_prediction = knn.predict([[20, 4.3, 5.5]])  # New data point\n",
        "predicted_fruit_label = fruit_prediction[0]  # Extract the predicted label\n",
        "\n",
        "# Map the predicted label to the fruit name\n",
        "if predicted_fruit_label in lookup_fruit_name:\n",
        "    predicted_fruit_name = lookup_fruit_name[predicted_fruit_label]\n",
        "    print(f\"Predicted Fruit: {predicted_fruit_name}\")\n",
        "else:\n",
        "    print(f\"Error: Predicted label {predicted_fruit_label} not found in lookup dictionary.\")"
      ]
    }
  ]
}